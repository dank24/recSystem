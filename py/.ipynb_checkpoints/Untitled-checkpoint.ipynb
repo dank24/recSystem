{
 "cells": [
  {
   "cell_type": "code",
   "execution_count": null,
   "id": "b8983911-7339-4c8a-b8cb-39b7bd5cd662",
   "metadata": {
    "editable": true,
    "slideshow": {
     "slide_type": ""
    },
    "tags": []
   },
   "outputs": [],
   "source": [
    "import numpy as np\n",
    "import pandas as pd\n",
    "import difflib\n",
    "from sklearn.feature_extraction.text import TfidfVectorizer\n",
    "from sklearn.metrics.pairwise import cosine_similarity"
   ]
  },
  {
   "cell_type": "code",
   "execution_count": null,
   "id": "fa23e2f4-4189-43bc-aee4-11ce46b5eefe",
   "metadata": {},
   "outputs": [],
   "source": [
    "credit_df = pd.read_csv('/home/dans/Downloads/pyp/archive/credits.csv')\n",
    "movies_df = pd.read_csv('/home/dans/Downloads/pyp/archive/movies_md.csv')"
   ]
  },
  {
   "cell_type": "code",
   "execution_count": null,
   "id": "4c003100-e56b-44bf-bd96-7c0a8d0943d5",
   "metadata": {},
   "outputs": [],
   "source": [
    "movies_df.head()"
   ]
  },
  {
   "cell_type": "code",
   "execution_count": null,
   "id": "fe8a573e-83a0-4d80-a773-ea27e7722b9f",
   "metadata": {},
   "outputs": [],
   "source": [
    "credit_df"
   ]
  },
  {
   "cell_type": "code",
   "execution_count": null,
   "id": "13f4329e-cd8b-4676-a5a2-f1de894bcb9c",
   "metadata": {},
   "outputs": [],
   "source": [
    "selected_columns = ['genres', 'id','adult','title','imdb_id']\n",
    "selected_columns2 = ['cast','crew']\n",
    "selected_columns"
   ]
  },
  {
   "cell_type": "code",
   "execution_count": null,
   "id": "c168e967-ab17-47f2-bdc1-1841c157e4e4",
   "metadata": {},
   "outputs": [],
   "source": [
    "#replacing null values with null strings\n",
    "for column in selected_columns:\n",
    "    movies_df[column] = movies_df[column].fillna('')\n",
    "\n",
    "for column in selected_columns2:\n",
    "    credit_df[column] = credit_df[column].fillna('')"
   ]
  },
  {
   "cell_type": "code",
   "execution_count": null,
   "id": "5cf3e301-d5f0-444e-a948-2c38e12ff67c",
   "metadata": {},
   "outputs": [],
   "source": [
    "#select important columns\n",
    "columns = movies_df['title']+\"\"+movies_df['genres']+\"\"+movies_df['imdb_id']+\"\"+credit_df['cast']+\"\"+credit_df['crew']\n",
    "columns"
   ]
  },
  {
   "cell_type": "code",
   "execution_count": null,
   "id": "77a0d6b2-147b-4939-a0d2-bf6f5170e1fb",
   "metadata": {},
   "outputs": [],
   "source": [
    "vectorizer = TfidfVectorizer()\n",
    "vectorized_columns = vectorizer.fit_transform(columns)"
   ]
  },
  {
   "cell_type": "code",
   "execution_count": null,
   "id": "c6cd5877-7430-4a42-abb8-673375bf78ef",
   "metadata": {},
   "outputs": [],
   "source": [
    "vectorized_columns"
   ]
  },
  {
   "cell_type": "code",
   "execution_count": null,
   "id": "666fba78-9e00-4864-bc46-9ddc838b811e",
   "metadata": {},
   "outputs": [],
   "source": []
  }
 ],
 "metadata": {
  "kernelspec": {
   "display_name": "Python 3 (ipykernel)",
   "language": "python",
   "name": "python3"
  },
  "language_info": {
   "codemirror_mode": {
    "name": "ipython",
    "version": 3
   },
   "file_extension": ".py",
   "mimetype": "text/x-python",
   "name": "python",
   "nbconvert_exporter": "python",
   "pygments_lexer": "ipython3",
   "version": "3.10.12"
  }
 },
 "nbformat": 4,
 "nbformat_minor": 5
}
