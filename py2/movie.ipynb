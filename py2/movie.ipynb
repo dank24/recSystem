{
 "cells": [
  {
   "cell_type": "markdown",
   "metadata": {},
   "source": []
  },
  {
   "cell_type": "code",
   "execution_count": 1,
   "metadata": {},
   "outputs": [],
   "source": [
    "import numpy as np \n",
    "import pandas as pd\n",
    "\n",
    "import difflib\n",
    "from sklearn.feature_extraction.text import TfidfVectorizer\n",
    "from sklearn.metrics.pairwise import cosine_similarity\n",
    "\n",
    "from sklearn.neighbors import NearestNeighbors\n"
   ]
  },
  {
   "cell_type": "code",
   "execution_count": 2,
   "metadata": {},
   "outputs": [],
   "source": [
    "movies_df = pd.read_csv('/home/dans/Downloads/pyp/archive/movies_md.csv', low_memory=False)\n",
    "keywords = pd.read_csv('/home/dans/Downloads/pyp/archive/keywords.csv', low_memory=False)\n",
    "links = pd.read_csv(\"/home/dans/Downloads/pyp/archive/links.csv\", low_memory=False)\n",
    "credits = pd.read_csv(\"/home/dans/Downloads/pyp/archive/credits.csv\")\n"
   ]
  },
  {
   "cell_type": "code",
   "execution_count": 3,
   "metadata": {},
   "outputs": [
    {
     "data": {
      "text/html": [
       "<div>\n",
       "<style scoped>\n",
       "    .dataframe tbody tr th:only-of-type {\n",
       "        vertical-align: middle;\n",
       "    }\n",
       "\n",
       "    .dataframe tbody tr th {\n",
       "        vertical-align: top;\n",
       "    }\n",
       "\n",
       "    .dataframe thead th {\n",
       "        text-align: right;\n",
       "    }\n",
       "</style>\n",
       "<table border=\"1\" class=\"dataframe\">\n",
       "  <thead>\n",
       "    <tr style=\"text-align: right;\">\n",
       "      <th></th>\n",
       "      <th>cast</th>\n",
       "      <th>crew</th>\n",
       "    </tr>\n",
       "  </thead>\n",
       "  <tbody>\n",
       "    <tr>\n",
       "      <th>0</th>\n",
       "      <td>[{'cast_id': 14, 'character': 'Woody (voice)',...</td>\n",
       "      <td>[{'credit_id': '52fe4284c3a36847f8024f49', 'de...</td>\n",
       "    </tr>\n",
       "    <tr>\n",
       "      <th>1</th>\n",
       "      <td>[{'cast_id': 1, 'character': 'Alan Parrish', '...</td>\n",
       "      <td>[{'credit_id': '52fe44bfc3a36847f80a7cd1', 'de...</td>\n",
       "    </tr>\n",
       "    <tr>\n",
       "      <th>2</th>\n",
       "      <td>[{'cast_id': 2, 'character': 'Max Goldman', 'c...</td>\n",
       "      <td>[{'credit_id': '52fe466a9251416c75077a89', 'de...</td>\n",
       "    </tr>\n",
       "    <tr>\n",
       "      <th>3</th>\n",
       "      <td>[{'cast_id': 1, 'character': \"Savannah 'Vannah...</td>\n",
       "      <td>[{'credit_id': '52fe44779251416c91011acb', 'de...</td>\n",
       "    </tr>\n",
       "    <tr>\n",
       "      <th>4</th>\n",
       "      <td>[{'cast_id': 1, 'character': 'George Banks', '...</td>\n",
       "      <td>[{'credit_id': '52fe44959251416c75039ed7', 'de...</td>\n",
       "    </tr>\n",
       "    <tr>\n",
       "      <th>...</th>\n",
       "      <td>...</td>\n",
       "      <td>...</td>\n",
       "    </tr>\n",
       "    <tr>\n",
       "      <th>45471</th>\n",
       "      <td>[{'cast_id': 0, 'character': '', 'credit_id': ...</td>\n",
       "      <td>[{'credit_id': '5894a97d925141426c00818c', 'de...</td>\n",
       "    </tr>\n",
       "    <tr>\n",
       "      <th>45472</th>\n",
       "      <td>[{'cast_id': 1002, 'character': 'Sister Angela...</td>\n",
       "      <td>[{'credit_id': '52fe4af1c3a36847f81e9b15', 'de...</td>\n",
       "    </tr>\n",
       "    <tr>\n",
       "      <th>45473</th>\n",
       "      <td>[{'cast_id': 6, 'character': 'Emily Shaw', 'cr...</td>\n",
       "      <td>[{'credit_id': '52fe4776c3a368484e0c8387', 'de...</td>\n",
       "    </tr>\n",
       "    <tr>\n",
       "      <th>45474</th>\n",
       "      <td>[{'cast_id': 2, 'character': '', 'credit_id': ...</td>\n",
       "      <td>[{'credit_id': '533bccebc3a36844cf0011a7', 'de...</td>\n",
       "    </tr>\n",
       "    <tr>\n",
       "      <th>45475</th>\n",
       "      <td>[]</td>\n",
       "      <td>[{'credit_id': '593e676c92514105b702e68e', 'de...</td>\n",
       "    </tr>\n",
       "  </tbody>\n",
       "</table>\n",
       "<p>45476 rows × 2 columns</p>\n",
       "</div>"
      ],
      "text/plain": [
       "                                                    cast  \\\n",
       "0      [{'cast_id': 14, 'character': 'Woody (voice)',...   \n",
       "1      [{'cast_id': 1, 'character': 'Alan Parrish', '...   \n",
       "2      [{'cast_id': 2, 'character': 'Max Goldman', 'c...   \n",
       "3      [{'cast_id': 1, 'character': \"Savannah 'Vannah...   \n",
       "4      [{'cast_id': 1, 'character': 'George Banks', '...   \n",
       "...                                                  ...   \n",
       "45471  [{'cast_id': 0, 'character': '', 'credit_id': ...   \n",
       "45472  [{'cast_id': 1002, 'character': 'Sister Angela...   \n",
       "45473  [{'cast_id': 6, 'character': 'Emily Shaw', 'cr...   \n",
       "45474  [{'cast_id': 2, 'character': '', 'credit_id': ...   \n",
       "45475                                                 []   \n",
       "\n",
       "                                                    crew  \n",
       "0      [{'credit_id': '52fe4284c3a36847f8024f49', 'de...  \n",
       "1      [{'credit_id': '52fe44bfc3a36847f80a7cd1', 'de...  \n",
       "2      [{'credit_id': '52fe466a9251416c75077a89', 'de...  \n",
       "3      [{'credit_id': '52fe44779251416c91011acb', 'de...  \n",
       "4      [{'credit_id': '52fe44959251416c75039ed7', 'de...  \n",
       "...                                                  ...  \n",
       "45471  [{'credit_id': '5894a97d925141426c00818c', 'de...  \n",
       "45472  [{'credit_id': '52fe4af1c3a36847f81e9b15', 'de...  \n",
       "45473  [{'credit_id': '52fe4776c3a368484e0c8387', 'de...  \n",
       "45474  [{'credit_id': '533bccebc3a36844cf0011a7', 'de...  \n",
       "45475  [{'credit_id': '593e676c92514105b702e68e', 'de...  \n",
       "\n",
       "[45476 rows x 2 columns]"
      ]
     },
     "execution_count": 3,
     "metadata": {},
     "output_type": "execute_result"
    }
   ],
   "source": [
    "\n",
    "\n",
    "mData = ['id', 'title', 'genres', 'imdb_id', 'release_date', 'vote_average']\n",
    "\n",
    "export = movies_df[mData]\n",
    "\n",
    "credits.drop(columns=['id'])"
   ]
  },
  {
   "cell_type": "code",
   "execution_count": 4,
   "metadata": {},
   "outputs": [],
   "source": [
    "exports = pd.concat([export, credits], axis=1, ignore_index=True)\n",
    "\n",
    "exports = export.fillna('')"
   ]
  },
  {
   "cell_type": "code",
   "execution_count": 5,
   "metadata": {},
   "outputs": [],
   "source": [
    "exports.to_csv('exported')"
   ]
  },
  {
   "cell_type": "code",
   "execution_count": 6,
   "metadata": {},
   "outputs": [],
   "source": [
    "#exported = pd.read_csv('./exported.csv')\n",
    "#exported"
   ]
  },
  {
   "cell_type": "code",
   "execution_count": 7,
   "metadata": {},
   "outputs": [],
   "source": [
    "\n",
    "movies_data = movies_df[['id','genres','adult','runtime', 'tagline', 'vote_average','title', 'imdb_id']]\n",
    "\n",
    "keywords_data =  keywords['keywords']\n",
    "\n",
    "credits_data = credits[['cast', 'crew']]\n",
    "\n",
    "\n",
    "\n"
   ]
  },
  {
   "cell_type": "markdown",
   "metadata": {},
   "source": []
  },
  {
   "cell_type": "code",
   "execution_count": 8,
   "metadata": {},
   "outputs": [
    {
     "data": {
      "text/html": [
       "<div>\n",
       "<style scoped>\n",
       "    .dataframe tbody tr th:only-of-type {\n",
       "        vertical-align: middle;\n",
       "    }\n",
       "\n",
       "    .dataframe tbody tr th {\n",
       "        vertical-align: top;\n",
       "    }\n",
       "\n",
       "    .dataframe thead th {\n",
       "        text-align: right;\n",
       "    }\n",
       "</style>\n",
       "<table border=\"1\" class=\"dataframe\">\n",
       "  <thead>\n",
       "    <tr style=\"text-align: right;\">\n",
       "      <th></th>\n",
       "      <th>id</th>\n",
       "      <th>genres</th>\n",
       "      <th>adult</th>\n",
       "      <th>runtime</th>\n",
       "      <th>tagline</th>\n",
       "      <th>vote_average</th>\n",
       "      <th>title</th>\n",
       "      <th>imdb_id</th>\n",
       "      <th>keywords</th>\n",
       "      <th>cast</th>\n",
       "      <th>crew</th>\n",
       "    </tr>\n",
       "  </thead>\n",
       "  <tbody>\n",
       "    <tr>\n",
       "      <th>0</th>\n",
       "      <td>862</td>\n",
       "      <td>[{'id': 16, 'name': 'Animation'}, {'id': 35, '...</td>\n",
       "      <td>False</td>\n",
       "      <td>81.0</td>\n",
       "      <td>NaN</td>\n",
       "      <td>7.7</td>\n",
       "      <td>Toy Story</td>\n",
       "      <td>tt0114709</td>\n",
       "      <td>[{'id': 931, 'name': 'jealousy'}, {'id': 4290,...</td>\n",
       "      <td>[{'cast_id': 14, 'character': 'Woody (voice)',...</td>\n",
       "      <td>[{'credit_id': '52fe4284c3a36847f8024f49', 'de...</td>\n",
       "    </tr>\n",
       "    <tr>\n",
       "      <th>1</th>\n",
       "      <td>8844</td>\n",
       "      <td>[{'id': 12, 'name': 'Adventure'}, {'id': 14, '...</td>\n",
       "      <td>False</td>\n",
       "      <td>104.0</td>\n",
       "      <td>Roll the dice and unleash the excitement!</td>\n",
       "      <td>6.9</td>\n",
       "      <td>Jumanji</td>\n",
       "      <td>tt0113497</td>\n",
       "      <td>[{'id': 10090, 'name': 'board game'}, {'id': 1...</td>\n",
       "      <td>[{'cast_id': 1, 'character': 'Alan Parrish', '...</td>\n",
       "      <td>[{'credit_id': '52fe44bfc3a36847f80a7cd1', 'de...</td>\n",
       "    </tr>\n",
       "    <tr>\n",
       "      <th>2</th>\n",
       "      <td>15602</td>\n",
       "      <td>[{'id': 10749, 'name': 'Romance'}, {'id': 35, ...</td>\n",
       "      <td>False</td>\n",
       "      <td>101.0</td>\n",
       "      <td>Still Yelling. Still Fighting. Still Ready for...</td>\n",
       "      <td>6.5</td>\n",
       "      <td>Grumpier Old Men</td>\n",
       "      <td>tt0113228</td>\n",
       "      <td>[{'id': 1495, 'name': 'fishing'}, {'id': 12392...</td>\n",
       "      <td>[{'cast_id': 2, 'character': 'Max Goldman', 'c...</td>\n",
       "      <td>[{'credit_id': '52fe466a9251416c75077a89', 'de...</td>\n",
       "    </tr>\n",
       "    <tr>\n",
       "      <th>3</th>\n",
       "      <td>31357</td>\n",
       "      <td>[{'id': 35, 'name': 'Comedy'}, {'id': 18, 'nam...</td>\n",
       "      <td>False</td>\n",
       "      <td>127.0</td>\n",
       "      <td>Friends are the people who let you be yourself...</td>\n",
       "      <td>6.1</td>\n",
       "      <td>Waiting to Exhale</td>\n",
       "      <td>tt0114885</td>\n",
       "      <td>[{'id': 818, 'name': 'based on novel'}, {'id':...</td>\n",
       "      <td>[{'cast_id': 1, 'character': \"Savannah 'Vannah...</td>\n",
       "      <td>[{'credit_id': '52fe44779251416c91011acb', 'de...</td>\n",
       "    </tr>\n",
       "    <tr>\n",
       "      <th>4</th>\n",
       "      <td>11862</td>\n",
       "      <td>[{'id': 35, 'name': 'Comedy'}]</td>\n",
       "      <td>False</td>\n",
       "      <td>106.0</td>\n",
       "      <td>Just When His World Is Back To Normal... He's ...</td>\n",
       "      <td>5.7</td>\n",
       "      <td>Father of the Bride Part II</td>\n",
       "      <td>tt0113041</td>\n",
       "      <td>[{'id': 1009, 'name': 'baby'}, {'id': 1599, 'n...</td>\n",
       "      <td>[{'cast_id': 1, 'character': 'George Banks', '...</td>\n",
       "      <td>[{'credit_id': '52fe44959251416c75039ed7', 'de...</td>\n",
       "    </tr>\n",
       "    <tr>\n",
       "      <th>...</th>\n",
       "      <td>...</td>\n",
       "      <td>...</td>\n",
       "      <td>...</td>\n",
       "      <td>...</td>\n",
       "      <td>...</td>\n",
       "      <td>...</td>\n",
       "      <td>...</td>\n",
       "      <td>...</td>\n",
       "      <td>...</td>\n",
       "      <td>...</td>\n",
       "      <td>...</td>\n",
       "    </tr>\n",
       "    <tr>\n",
       "      <th>46414</th>\n",
       "      <td>NaN</td>\n",
       "      <td>NaN</td>\n",
       "      <td>NaN</td>\n",
       "      <td>NaN</td>\n",
       "      <td>NaN</td>\n",
       "      <td>NaN</td>\n",
       "      <td>NaN</td>\n",
       "      <td>NaN</td>\n",
       "      <td>[{'id': 10703, 'name': 'tragic love'}]</td>\n",
       "      <td>NaN</td>\n",
       "      <td>NaN</td>\n",
       "    </tr>\n",
       "    <tr>\n",
       "      <th>46415</th>\n",
       "      <td>NaN</td>\n",
       "      <td>NaN</td>\n",
       "      <td>NaN</td>\n",
       "      <td>NaN</td>\n",
       "      <td>NaN</td>\n",
       "      <td>NaN</td>\n",
       "      <td>NaN</td>\n",
       "      <td>NaN</td>\n",
       "      <td>[{'id': 2679, 'name': 'artist'}, {'id': 14531,...</td>\n",
       "      <td>NaN</td>\n",
       "      <td>NaN</td>\n",
       "    </tr>\n",
       "    <tr>\n",
       "      <th>46416</th>\n",
       "      <td>NaN</td>\n",
       "      <td>NaN</td>\n",
       "      <td>NaN</td>\n",
       "      <td>NaN</td>\n",
       "      <td>NaN</td>\n",
       "      <td>NaN</td>\n",
       "      <td>NaN</td>\n",
       "      <td>NaN</td>\n",
       "      <td>[]</td>\n",
       "      <td>NaN</td>\n",
       "      <td>NaN</td>\n",
       "    </tr>\n",
       "    <tr>\n",
       "      <th>46417</th>\n",
       "      <td>NaN</td>\n",
       "      <td>NaN</td>\n",
       "      <td>NaN</td>\n",
       "      <td>NaN</td>\n",
       "      <td>NaN</td>\n",
       "      <td>NaN</td>\n",
       "      <td>NaN</td>\n",
       "      <td>NaN</td>\n",
       "      <td>[]</td>\n",
       "      <td>NaN</td>\n",
       "      <td>NaN</td>\n",
       "    </tr>\n",
       "    <tr>\n",
       "      <th>46418</th>\n",
       "      <td>NaN</td>\n",
       "      <td>NaN</td>\n",
       "      <td>NaN</td>\n",
       "      <td>NaN</td>\n",
       "      <td>NaN</td>\n",
       "      <td>NaN</td>\n",
       "      <td>NaN</td>\n",
       "      <td>NaN</td>\n",
       "      <td>[]</td>\n",
       "      <td>NaN</td>\n",
       "      <td>NaN</td>\n",
       "    </tr>\n",
       "  </tbody>\n",
       "</table>\n",
       "<p>46419 rows × 11 columns</p>\n",
       "</div>"
      ],
      "text/plain": [
       "          id                                             genres  adult  \\\n",
       "0        862  [{'id': 16, 'name': 'Animation'}, {'id': 35, '...  False   \n",
       "1       8844  [{'id': 12, 'name': 'Adventure'}, {'id': 14, '...  False   \n",
       "2      15602  [{'id': 10749, 'name': 'Romance'}, {'id': 35, ...  False   \n",
       "3      31357  [{'id': 35, 'name': 'Comedy'}, {'id': 18, 'nam...  False   \n",
       "4      11862                     [{'id': 35, 'name': 'Comedy'}]  False   \n",
       "...      ...                                                ...    ...   \n",
       "46414    NaN                                                NaN    NaN   \n",
       "46415    NaN                                                NaN    NaN   \n",
       "46416    NaN                                                NaN    NaN   \n",
       "46417    NaN                                                NaN    NaN   \n",
       "46418    NaN                                                NaN    NaN   \n",
       "\n",
       "       runtime                                            tagline  \\\n",
       "0         81.0                                                NaN   \n",
       "1        104.0          Roll the dice and unleash the excitement!   \n",
       "2        101.0  Still Yelling. Still Fighting. Still Ready for...   \n",
       "3        127.0  Friends are the people who let you be yourself...   \n",
       "4        106.0  Just When His World Is Back To Normal... He's ...   \n",
       "...        ...                                                ...   \n",
       "46414      NaN                                                NaN   \n",
       "46415      NaN                                                NaN   \n",
       "46416      NaN                                                NaN   \n",
       "46417      NaN                                                NaN   \n",
       "46418      NaN                                                NaN   \n",
       "\n",
       "       vote_average                        title    imdb_id  \\\n",
       "0               7.7                    Toy Story  tt0114709   \n",
       "1               6.9                      Jumanji  tt0113497   \n",
       "2               6.5             Grumpier Old Men  tt0113228   \n",
       "3               6.1            Waiting to Exhale  tt0114885   \n",
       "4               5.7  Father of the Bride Part II  tt0113041   \n",
       "...             ...                          ...        ...   \n",
       "46414           NaN                          NaN        NaN   \n",
       "46415           NaN                          NaN        NaN   \n",
       "46416           NaN                          NaN        NaN   \n",
       "46417           NaN                          NaN        NaN   \n",
       "46418           NaN                          NaN        NaN   \n",
       "\n",
       "                                                keywords  \\\n",
       "0      [{'id': 931, 'name': 'jealousy'}, {'id': 4290,...   \n",
       "1      [{'id': 10090, 'name': 'board game'}, {'id': 1...   \n",
       "2      [{'id': 1495, 'name': 'fishing'}, {'id': 12392...   \n",
       "3      [{'id': 818, 'name': 'based on novel'}, {'id':...   \n",
       "4      [{'id': 1009, 'name': 'baby'}, {'id': 1599, 'n...   \n",
       "...                                                  ...   \n",
       "46414             [{'id': 10703, 'name': 'tragic love'}]   \n",
       "46415  [{'id': 2679, 'name': 'artist'}, {'id': 14531,...   \n",
       "46416                                                 []   \n",
       "46417                                                 []   \n",
       "46418                                                 []   \n",
       "\n",
       "                                                    cast  \\\n",
       "0      [{'cast_id': 14, 'character': 'Woody (voice)',...   \n",
       "1      [{'cast_id': 1, 'character': 'Alan Parrish', '...   \n",
       "2      [{'cast_id': 2, 'character': 'Max Goldman', 'c...   \n",
       "3      [{'cast_id': 1, 'character': \"Savannah 'Vannah...   \n",
       "4      [{'cast_id': 1, 'character': 'George Banks', '...   \n",
       "...                                                  ...   \n",
       "46414                                                NaN   \n",
       "46415                                                NaN   \n",
       "46416                                                NaN   \n",
       "46417                                                NaN   \n",
       "46418                                                NaN   \n",
       "\n",
       "                                                    crew  \n",
       "0      [{'credit_id': '52fe4284c3a36847f8024f49', 'de...  \n",
       "1      [{'credit_id': '52fe44bfc3a36847f80a7cd1', 'de...  \n",
       "2      [{'credit_id': '52fe466a9251416c75077a89', 'de...  \n",
       "3      [{'credit_id': '52fe44779251416c91011acb', 'de...  \n",
       "4      [{'credit_id': '52fe44959251416c75039ed7', 'de...  \n",
       "...                                                  ...  \n",
       "46414                                                NaN  \n",
       "46415                                                NaN  \n",
       "46416                                                NaN  \n",
       "46417                                                NaN  \n",
       "46418                                                NaN  \n",
       "\n",
       "[46419 rows x 11 columns]"
      ]
     },
     "execution_count": 8,
     "metadata": {},
     "output_type": "execute_result"
    }
   ],
   "source": [
    "listData = pd.concat([movies_data, keywords_data, credits_data], axis=1)\n",
    "\n",
    "listData"
   ]
  },
  {
   "cell_type": "code",
   "execution_count": 9,
   "metadata": {},
   "outputs": [],
   "source": [
    "#movies_df['id'] = movies_df['id'].astype('string')\n",
    "#movies_df['vote_average'] = movies_df['vote_average'].astype('string')\n",
    "#movies_df['runtime'] = movies_df['runtime'].astype('string')\n",
    "\n",
    "#keywords['id'] = keywords['id'].astype('string')\n",
    "\n",
    "#moviesData = movies_df.merge(keywords, on='id')"
   ]
  },
  {
   "cell_type": "code",
   "execution_count": 10,
   "metadata": {},
   "outputs": [],
   "source": [
    "columns = ['id','genres','adult','runtime', 'tagline', 'vote_average','keywords','title','cast','crew', 'imdb_id']\n",
    "\n",
    "for column in columns:\n",
    "    listData[column] = listData[column].fillna('')"
   ]
  },
  {
   "cell_type": "code",
   "execution_count": 11,
   "metadata": {},
   "outputs": [
    {
     "data": {
      "text/plain": [
       "0        [{'id': 16, 'name': 'Animation'}, {'id': 35, '...\n",
       "1        [{'id': 12, 'name': 'Adventure'}, {'id': 14, '...\n",
       "2        [{'id': 10749, 'name': 'Romance'}, {'id': 35, ...\n",
       "3        [{'id': 35, 'name': 'Comedy'}, {'id': 18, 'nam...\n",
       "4        [{'id': 35, 'name': 'Comedy'}][{'id': 1009, 'n...\n",
       "                               ...                        \n",
       "46414               [{'id': 10703, 'name': 'tragic love'}]\n",
       "46415    [{'id': 2679, 'name': 'artist'}, {'id': 14531,...\n",
       "46416                                                   []\n",
       "46417                                                   []\n",
       "46418                                                   []\n",
       "Length: 46419, dtype: string"
      ]
     },
     "execution_count": 11,
     "metadata": {},
     "output_type": "execute_result"
    }
   ],
   "source": [
    "listData['runtime'] = listData['runtime'].astype('string')\n",
    "listData['vote_average'] = listData['vote_average'].astype('string')\n",
    "\n",
    "\n",
    "bases = listData['genres']+\"\"+listData['keywords']+\"\"+listData['tagline']+\"\"+listData['title']+''+listData['runtime']+''+listData['vote_average']\n",
    "\n",
    "bases\n",
    "\n",
    "\n"
   ]
  },
  {
   "cell_type": "code",
   "execution_count": 12,
   "metadata": {},
   "outputs": [
    {
     "data": {
      "text/plain": [
       "<46419x87382 sparse matrix of type '<class 'numpy.float64'>'\n",
       "\twith 972644 stored elements in Compressed Sparse Row format>"
      ]
     },
     "execution_count": 12,
     "metadata": {},
     "output_type": "execute_result"
    }
   ],
   "source": [
    "vectorizer = TfidfVectorizer()\n",
    "\n",
    "vectorizedBases = vectorizer.fit_transform(bases)\n",
    "\n",
    "from scipy.sparse import csr_matrix\n",
    "\n",
    "matBases=csr_matrix(vectorizedBases)\n",
    "\n",
    "matBases\n",
    "\n"
   ]
  },
  {
   "cell_type": "code",
   "execution_count": 13,
   "metadata": {},
   "outputs": [
    {
     "data": {
      "text/plain": [
       "(46419, 30)"
      ]
     },
     "execution_count": 13,
     "metadata": {},
     "output_type": "execute_result"
    }
   ],
   "source": [
    "#similarity = cosine_similarity(matBases)\n",
    "\n",
    "nn = NearestNeighbors(metric='cosine', algorithm='brute')\n",
    "\n",
    "nn.fit(vectorizedBases)\n",
    "\n",
    "distances, indices = nn.kneighbors(vectorizedBases, n_neighbors=30)\n",
    "\n",
    "distances.shape"
   ]
  },
  {
   "cell_type": "code",
   "execution_count": 14,
   "metadata": {},
   "outputs": [
    {
     "data": {
      "text/plain": [
       "'avatar'"
      ]
     },
     "execution_count": 14,
     "metadata": {},
     "output_type": "execute_result"
    }
   ],
   "source": [
    "userChoice = input('Enter Choice:')\n",
    "\n",
    "userChoice\n"
   ]
  },
  {
   "cell_type": "code",
   "execution_count": 17,
   "metadata": {},
   "outputs": [
    {
     "data": {
      "text/plain": [
       "0                          Toy Story\n",
       "1                            Jumanji\n",
       "2                   Grumpier Old Men\n",
       "3                  Waiting to Exhale\n",
       "4        Father of the Bride Part II\n",
       "                    ...             \n",
       "46414                               \n",
       "46415                               \n",
       "46416                               \n",
       "46417                               \n",
       "46418                               \n",
       "Name: title, Length: 46419, dtype: object"
      ]
     },
     "execution_count": 17,
     "metadata": {},
     "output_type": "execute_result"
    }
   ],
   "source": [
    "want = ['title', 'imdb_id']\n",
    "\n",
    "moviesList = listData['title']\n",
    "\n",
    "moviesList\n",
    "\n"
   ]
  },
  {
   "cell_type": "code",
   "execution_count": 22,
   "metadata": {},
   "outputs": [
    {
     "data": {
      "text/plain": [
       "'Avatar'"
      ]
     },
     "execution_count": 22,
     "metadata": {},
     "output_type": "execute_result"
    }
   ],
   "source": [
    "userChoice = input('Enter Choice:')\n",
    "\n",
    "getCloseMatch = difflib.get_close_matches(userChoice, moviesList)\n",
    "\n",
    "matchedMovie = getCloseMatch[0]\n",
    "    \n",
    "matchedMovie"
   ]
  },
  {
   "cell_type": "code",
   "execution_count": 23,
   "metadata": {},
   "outputs": [
    {
     "data": {
      "text/plain": [
       "'tt0083113'"
      ]
     },
     "execution_count": 23,
     "metadata": {},
     "output_type": "execute_result"
    }
   ],
   "source": [
    "imdbList = listData['imdb_id']\n",
    "\n",
    "user = input('enter id')\n",
    "\n",
    "matchID = difflib.get_close_matches(user, imdbList)[0]\n",
    "\n",
    "matchID\n"
   ]
  },
  {
   "cell_type": "code",
   "execution_count": 25,
   "metadata": {},
   "outputs": [
    {
     "data": {
      "text/plain": [
       "5722"
      ]
     },
     "execution_count": 25,
     "metadata": {},
     "output_type": "execute_result"
    }
   ],
   "source": [
    "#imdb match id\n",
    "matchIDindex = listData[listData['imdb_id'] == matchID]['id'].index[0]\n",
    "\n",
    "matchIDindex"
   ]
  },
  {
   "cell_type": "code",
   "execution_count": 26,
   "metadata": {},
   "outputs": [
    {
     "data": {
      "text/plain": [
       "14551"
      ]
     },
     "execution_count": 26,
     "metadata": {},
     "output_type": "execute_result"
    }
   ],
   "source": [
    "\n",
    "# Get matched Movie Id\n",
    "\n",
    "matchedMovieIndex = listData[listData['title'] == matchedMovie]['id'].index[0]\n",
    "\n",
    "matchedMovieIndex\n"
   ]
  },
  {
   "cell_type": "code",
   "execution_count": 28,
   "metadata": {},
   "outputs": [
    {
     "data": {
      "text/plain": [
       "array([0.        , 0.43574862, 0.55572185, 0.59381835, 0.65204004,\n",
       "       0.65882997, 0.66369007, 0.67191868, 0.67238774, 0.67570373,\n",
       "       0.694564  , 0.71963849, 0.72484026, 0.73872975, 0.74682615,\n",
       "       0.83473073, 0.86375092, 0.86644672, 0.8677731 , 0.86932667,\n",
       "       0.87169231, 0.87247886, 0.87265575, 0.87397221, 0.87426641,\n",
       "       0.87446144, 0.87537744, 0.87592133, 0.87604796, 0.8763575 ])"
      ]
     },
     "execution_count": 28,
     "metadata": {},
     "output_type": "execute_result"
    }
   ],
   "source": [
    "similarity_score = list(enumerate(distances[matchIDindex]))\n",
    "\n",
    "sortedMovies = sorted(similarity_score, key = lambda x:x[1], reverse = True)\n",
    "\n",
    "distances[40000]\n"
   ]
  },
  {
   "cell_type": "code",
   "execution_count": 29,
   "metadata": {},
   "outputs": [
    {
     "name": "stdout",
     "output_type": "stream",
     "text": [
      "Toy Story\n",
      "Jumanji\n",
      "Grumpier Old Men\n",
      "Waiting to Exhale\n",
      "Father of the Bride Part II\n",
      "Heat\n",
      "Sabrina\n",
      "Tom and Huck\n",
      "Sudden Death\n",
      "GoldenEye\n",
      "The American President\n",
      "Dracula: Dead and Loving It\n",
      "Balto\n",
      "Nixon\n",
      "Cutthroat Island\n",
      "Casino\n",
      "Sense and Sensibility\n",
      "Four Rooms\n",
      "Ace Ventura: When Nature Calls\n",
      "Money Train\n",
      "Get Shorty\n",
      "Copycat\n",
      "Assassins\n",
      "Powder\n",
      "Leaving Las Vegas\n",
      "Othello\n",
      "Now and Then\n",
      "Persuasion\n",
      "The City of Lost Children\n",
      "Shanghai Triad\n"
     ]
    }
   ],
   "source": [
    "i = 1\n",
    "for movie in similarity_score:\n",
    "    index = movie[0]\n",
    "    title = movies_df[movies_df.index == index]['title'].values[0]\n",
    "\n",
    "    print(title)"
   ]
  },
  {
   "cell_type": "code",
   "execution_count": 30,
   "metadata": {},
   "outputs": [],
   "source": [
    "def find_similar_movies(movie_title, n =29):\n",
    "    movie_title = difflib.get_close_matches(movie_title, moviesList)[0]\n",
    "\n",
    "    idx = movies_data[movies_data['title'] == movie_title].index[0]\n",
    "    distances, indices = nn.kneighbors(vectorizedBases[idx], n_neighbors=n+1)\n",
    "    return movies_data.iloc[indices[0][1:]][['title','vote_average']]\n"
   ]
  },
  {
   "cell_type": "code",
   "execution_count": 31,
   "metadata": {},
   "outputs": [
    {
     "data": {
      "text/plain": [
       "'tt0114709'"
      ]
     },
     "execution_count": 31,
     "metadata": {},
     "output_type": "execute_result"
    }
   ],
   "source": [
    "movieImdbList = listData['imdb_id']\n",
    "movieImdbList[0]"
   ]
  },
  {
   "cell_type": "code",
   "execution_count": 58,
   "metadata": {},
   "outputs": [],
   "source": [
    "def find_m_imdb(imdb, n = 30):\n",
    "    imdb = difflib.get_close_matches(imdb, movieImdbList)[0]\n",
    "\n",
    "    idx = movies_data[movies_data['imdb_id'] == imdb].index[0]\n",
    "    distances, indices = nn.kneighbors(vectorizedBases[idx], n_neighbors=n+1)\n",
    "    return listData.iloc[indices[0][1:]][['title', 'imdb_id']]"
   ]
  },
  {
   "cell_type": "code",
   "execution_count": 62,
   "metadata": {},
   "outputs": [
    {
     "data": {
      "text/html": [
       "<div>\n",
       "<style scoped>\n",
       "    .dataframe tbody tr th:only-of-type {\n",
       "        vertical-align: middle;\n",
       "    }\n",
       "\n",
       "    .dataframe tbody tr th {\n",
       "        vertical-align: top;\n",
       "    }\n",
       "\n",
       "    .dataframe thead th {\n",
       "        text-align: right;\n",
       "    }\n",
       "</style>\n",
       "<table border=\"1\" class=\"dataframe\">\n",
       "  <thead>\n",
       "    <tr style=\"text-align: right;\">\n",
       "      <th></th>\n",
       "      <th>title</th>\n",
       "      <th>imdb_id</th>\n",
       "    </tr>\n",
       "  </thead>\n",
       "  <tbody>\n",
       "    <tr>\n",
       "      <th>15348</th>\n",
       "      <td>Toy Story 3</td>\n",
       "      <td>tt0435761</td>\n",
       "    </tr>\n",
       "    <tr>\n",
       "      <th>25799</th>\n",
       "      <td>The Legend of Mor'du</td>\n",
       "      <td>tt2565938</td>\n",
       "    </tr>\n",
       "    <tr>\n",
       "      <th>1811</th>\n",
       "      <td>Small Soldiers</td>\n",
       "      <td>tt0122718</td>\n",
       "    </tr>\n",
       "    <tr>\n",
       "      <th>1882</th>\n",
       "      <td>Child's Play</td>\n",
       "      <td>tt0094862</td>\n",
       "    </tr>\n",
       "    <tr>\n",
       "      <th>2142</th>\n",
       "      <td>Toys</td>\n",
       "      <td>tt0105629</td>\n",
       "    </tr>\n",
       "    <tr>\n",
       "      <th>2997</th>\n",
       "      <td>Toy Story 2</td>\n",
       "      <td>tt0120363</td>\n",
       "    </tr>\n",
       "    <tr>\n",
       "      <th>7557</th>\n",
       "      <td>Dolls</td>\n",
       "      <td>tt0092906</td>\n",
       "    </tr>\n",
       "    <tr>\n",
       "      <th>21928</th>\n",
       "      <td>Toy Story of Terror!</td>\n",
       "      <td>tt2446040</td>\n",
       "    </tr>\n",
       "    <tr>\n",
       "      <th>31832</th>\n",
       "      <td>Toy Soldiers</td>\n",
       "      <td>tt0088292</td>\n",
       "    </tr>\n",
       "    <tr>\n",
       "      <th>25800</th>\n",
       "      <td>Toy Story That Time Forgot</td>\n",
       "      <td>tt3473654</td>\n",
       "    </tr>\n",
       "    <tr>\n",
       "      <th>11114</th>\n",
       "      <td>Monster House</td>\n",
       "      <td>tt0385880</td>\n",
       "    </tr>\n",
       "    <tr>\n",
       "      <th>19109</th>\n",
       "      <td>Ted</td>\n",
       "      <td>tt1637725</td>\n",
       "    </tr>\n",
       "    <tr>\n",
       "      <th>1311</th>\n",
       "      <td>Jingle All the Way</td>\n",
       "      <td>tt0116705</td>\n",
       "    </tr>\n",
       "    <tr>\n",
       "      <th>12188</th>\n",
       "      <td>Mr. Magorium's Wonder Emporium</td>\n",
       "      <td>tt0457419</td>\n",
       "    </tr>\n",
       "    <tr>\n",
       "      <th>59</th>\n",
       "      <td>The Indian in the Cupboard</td>\n",
       "      <td>tt0113419</td>\n",
       "    </tr>\n",
       "    <tr>\n",
       "      <th>1627</th>\n",
       "      <td>Home Alone 3</td>\n",
       "      <td>tt0119303</td>\n",
       "    </tr>\n",
       "    <tr>\n",
       "      <th>589</th>\n",
       "      <td>Pinocchio</td>\n",
       "      <td>tt0032910</td>\n",
       "    </tr>\n",
       "    <tr>\n",
       "      <th>25697</th>\n",
       "      <td>Three the Hard Way</td>\n",
       "      <td>tt0072284</td>\n",
       "    </tr>\n",
       "    <tr>\n",
       "      <th>36730</th>\n",
       "      <td>Toy Reanimator</td>\n",
       "      <td>tt0810871</td>\n",
       "    </tr>\n",
       "    <tr>\n",
       "      <th>29685</th>\n",
       "      <td>Barbie as the Island Princess</td>\n",
       "      <td>tt1092053</td>\n",
       "    </tr>\n",
       "    <tr>\n",
       "      <th>37422</th>\n",
       "      <td>Francofonia</td>\n",
       "      <td>tt3451720</td>\n",
       "    </tr>\n",
       "    <tr>\n",
       "      <th>18092</th>\n",
       "      <td>Hugo</td>\n",
       "      <td>tt0970179</td>\n",
       "    </tr>\n",
       "    <tr>\n",
       "      <th>29675</th>\n",
       "      <td>Barbie of Swan Lake</td>\n",
       "      <td>tt0383206</td>\n",
       "    </tr>\n",
       "    <tr>\n",
       "      <th>3881</th>\n",
       "      <td>The Transformers: The Movie</td>\n",
       "      <td>tt0092106</td>\n",
       "    </tr>\n",
       "    <tr>\n",
       "      <th>2682</th>\n",
       "      <td>Big</td>\n",
       "      <td>tt0094737</td>\n",
       "    </tr>\n",
       "    <tr>\n",
       "      <th>21754</th>\n",
       "      <td>This Is Our Time</td>\n",
       "      <td>tt2409634</td>\n",
       "    </tr>\n",
       "    <tr>\n",
       "      <th>7576</th>\n",
       "      <td>The Phantom Tollbooth</td>\n",
       "      <td>tt0064806</td>\n",
       "    </tr>\n",
       "    <tr>\n",
       "      <th>9259</th>\n",
       "      <td>Werckmeister Harmonies</td>\n",
       "      <td>tt0249241</td>\n",
       "    </tr>\n",
       "    <tr>\n",
       "      <th>8240</th>\n",
       "      <td>Seed of Chucky</td>\n",
       "      <td>tt0387575</td>\n",
       "    </tr>\n",
       "    <tr>\n",
       "      <th>25641</th>\n",
       "      <td>On the Ice</td>\n",
       "      <td>tt1663660</td>\n",
       "    </tr>\n",
       "  </tbody>\n",
       "</table>\n",
       "</div>"
      ],
      "text/plain": [
       "                                title    imdb_id\n",
       "15348                     Toy Story 3  tt0435761\n",
       "25799            The Legend of Mor'du  tt2565938\n",
       "1811                   Small Soldiers  tt0122718\n",
       "1882                     Child's Play  tt0094862\n",
       "2142                             Toys  tt0105629\n",
       "2997                      Toy Story 2  tt0120363\n",
       "7557                            Dolls  tt0092906\n",
       "21928            Toy Story of Terror!  tt2446040\n",
       "31832                    Toy Soldiers  tt0088292\n",
       "25800      Toy Story That Time Forgot  tt3473654\n",
       "11114                   Monster House  tt0385880\n",
       "19109                             Ted  tt1637725\n",
       "1311               Jingle All the Way  tt0116705\n",
       "12188  Mr. Magorium's Wonder Emporium  tt0457419\n",
       "59         The Indian in the Cupboard  tt0113419\n",
       "1627                     Home Alone 3  tt0119303\n",
       "589                         Pinocchio  tt0032910\n",
       "25697              Three the Hard Way  tt0072284\n",
       "36730                  Toy Reanimator  tt0810871\n",
       "29685   Barbie as the Island Princess  tt1092053\n",
       "37422                     Francofonia  tt3451720\n",
       "18092                            Hugo  tt0970179\n",
       "29675             Barbie of Swan Lake  tt0383206\n",
       "3881      The Transformers: The Movie  tt0092106\n",
       "2682                              Big  tt0094737\n",
       "21754                This Is Our Time  tt2409634\n",
       "7576            The Phantom Tollbooth  tt0064806\n",
       "9259           Werckmeister Harmonies  tt0249241\n",
       "8240                   Seed of Chucky  tt0387575\n",
       "25641                      On the Ice  tt1663660"
      ]
     },
     "execution_count": 62,
     "metadata": {},
     "output_type": "execute_result"
    }
   ],
   "source": [
    "find_m_imdb('tt0114709')\n"
   ]
  },
  {
   "cell_type": "code",
   "execution_count": null,
   "metadata": {},
   "outputs": [
    {
     "ename": "IndexError",
     "evalue": "positional indexers are out-of-bounds",
     "output_type": "error",
     "traceback": [
      "\u001b[0;31m---------------------------------------------------------------------------\u001b[0m",
      "\u001b[0;31mIndexError\u001b[0m                                Traceback (most recent call last)",
      "File \u001b[0;32m~/.local/lib/python3.10/site-packages/pandas/core/indexing.py:1714\u001b[0m, in \u001b[0;36m_iLocIndexer._get_list_axis\u001b[0;34m(self, key, axis)\u001b[0m\n\u001b[1;32m   1713\u001b[0m \u001b[39mtry\u001b[39;00m:\n\u001b[0;32m-> 1714\u001b[0m     \u001b[39mreturn\u001b[39;00m \u001b[39mself\u001b[39;49m\u001b[39m.\u001b[39;49mobj\u001b[39m.\u001b[39;49m_take_with_is_copy(key, axis\u001b[39m=\u001b[39;49maxis)\n\u001b[1;32m   1715\u001b[0m \u001b[39mexcept\u001b[39;00m \u001b[39mIndexError\u001b[39;00m \u001b[39mas\u001b[39;00m err:\n\u001b[1;32m   1716\u001b[0m     \u001b[39m# re-raise with different error message, e.g. test_getitem_ndarray_3d\u001b[39;00m\n",
      "File \u001b[0;32m~/.local/lib/python3.10/site-packages/pandas/core/generic.py:4153\u001b[0m, in \u001b[0;36mNDFrame._take_with_is_copy\u001b[0;34m(self, indices, axis)\u001b[0m\n\u001b[1;32m   4144\u001b[0m \u001b[39m\u001b[39m\u001b[39m\"\"\"\u001b[39;00m\n\u001b[1;32m   4145\u001b[0m \u001b[39mInternal version of the `take` method that sets the `_is_copy`\u001b[39;00m\n\u001b[1;32m   4146\u001b[0m \u001b[39mattribute to keep track of the parent dataframe (using in indexing\u001b[39;00m\n\u001b[0;32m   (...)\u001b[0m\n\u001b[1;32m   4151\u001b[0m \u001b[39mSee the docstring of `take` for full explanation of the parameters.\u001b[39;00m\n\u001b[1;32m   4152\u001b[0m \u001b[39m\"\"\"\u001b[39;00m\n\u001b[0;32m-> 4153\u001b[0m result \u001b[39m=\u001b[39m \u001b[39mself\u001b[39;49m\u001b[39m.\u001b[39;49mtake(indices\u001b[39m=\u001b[39;49mindices, axis\u001b[39m=\u001b[39;49maxis)\n\u001b[1;32m   4154\u001b[0m \u001b[39m# Maybe set copy if we didn't actually change the index.\u001b[39;00m\n",
      "File \u001b[0;32m~/.local/lib/python3.10/site-packages/pandas/core/generic.py:4133\u001b[0m, in \u001b[0;36mNDFrame.take\u001b[0;34m(self, indices, axis, **kwargs)\u001b[0m\n\u001b[1;32m   4129\u001b[0m     indices \u001b[39m=\u001b[39m np\u001b[39m.\u001b[39marange(\n\u001b[1;32m   4130\u001b[0m         indices\u001b[39m.\u001b[39mstart, indices\u001b[39m.\u001b[39mstop, indices\u001b[39m.\u001b[39mstep, dtype\u001b[39m=\u001b[39mnp\u001b[39m.\u001b[39mintp\n\u001b[1;32m   4131\u001b[0m     )\n\u001b[0;32m-> 4133\u001b[0m new_data \u001b[39m=\u001b[39m \u001b[39mself\u001b[39;49m\u001b[39m.\u001b[39;49m_mgr\u001b[39m.\u001b[39;49mtake(\n\u001b[1;32m   4134\u001b[0m     indices,\n\u001b[1;32m   4135\u001b[0m     axis\u001b[39m=\u001b[39;49m\u001b[39mself\u001b[39;49m\u001b[39m.\u001b[39;49m_get_block_manager_axis(axis),\n\u001b[1;32m   4136\u001b[0m     verify\u001b[39m=\u001b[39;49m\u001b[39mTrue\u001b[39;49;00m,\n\u001b[1;32m   4137\u001b[0m )\n\u001b[1;32m   4138\u001b[0m \u001b[39mreturn\u001b[39;00m \u001b[39mself\u001b[39m\u001b[39m.\u001b[39m_constructor_from_mgr(new_data, axes\u001b[39m=\u001b[39mnew_data\u001b[39m.\u001b[39maxes)\u001b[39m.\u001b[39m__finalize__(\n\u001b[1;32m   4139\u001b[0m     \u001b[39mself\u001b[39m, method\u001b[39m=\u001b[39m\u001b[39m\"\u001b[39m\u001b[39mtake\u001b[39m\u001b[39m\"\u001b[39m\n\u001b[1;32m   4140\u001b[0m )\n",
      "File \u001b[0;32m~/.local/lib/python3.10/site-packages/pandas/core/internals/managers.py:891\u001b[0m, in \u001b[0;36mBaseBlockManager.take\u001b[0;34m(self, indexer, axis, verify)\u001b[0m\n\u001b[1;32m    890\u001b[0m n \u001b[39m=\u001b[39m \u001b[39mself\u001b[39m\u001b[39m.\u001b[39mshape[axis]\n\u001b[0;32m--> 891\u001b[0m indexer \u001b[39m=\u001b[39m maybe_convert_indices(indexer, n, verify\u001b[39m=\u001b[39;49mverify)\n\u001b[1;32m    893\u001b[0m new_labels \u001b[39m=\u001b[39m \u001b[39mself\u001b[39m\u001b[39m.\u001b[39maxes[axis]\u001b[39m.\u001b[39mtake(indexer)\n",
      "File \u001b[0;32m~/.local/lib/python3.10/site-packages/pandas/core/indexers/utils.py:282\u001b[0m, in \u001b[0;36mmaybe_convert_indices\u001b[0;34m(indices, n, verify)\u001b[0m\n\u001b[1;32m    281\u001b[0m     \u001b[39mif\u001b[39;00m mask\u001b[39m.\u001b[39many():\n\u001b[0;32m--> 282\u001b[0m         \u001b[39mraise\u001b[39;00m \u001b[39mIndexError\u001b[39;00m(\u001b[39m\"\u001b[39m\u001b[39mindices are out-of-bounds\u001b[39m\u001b[39m\"\u001b[39m)\n\u001b[1;32m    283\u001b[0m \u001b[39mreturn\u001b[39;00m indices\n",
      "\u001b[0;31mIndexError\u001b[0m: indices are out-of-bounds",
      "\nThe above exception was the direct cause of the following exception:\n",
      "\u001b[0;31mIndexError\u001b[0m                                Traceback (most recent call last)",
      "\u001b[1;32m/home/dans/Desktop/repos/project/recSystem/py2/movie.ipynb Cell 29\u001b[0m line \u001b[0;36m1\n\u001b[0;32m----> <a href='vscode-notebook-cell:/home/dans/Desktop/repos/project/recSystem/py2/movie.ipynb#X35sZmlsZQ%3D%3D?line=0'>1</a>\u001b[0m similar \u001b[39m=\u001b[39m find_similar_movies(\u001b[39m'\u001b[39;49m\u001b[39mSphinx\u001b[39;49m\u001b[39m'\u001b[39;49m)\n\u001b[1;32m      <a href='vscode-notebook-cell:/home/dans/Desktop/repos/project/recSystem/py2/movie.ipynb#X35sZmlsZQ%3D%3D?line=2'>3</a>\u001b[0m \u001b[39mprint\u001b[39m(similar)\n",
      "\u001b[1;32m/home/dans/Desktop/repos/project/recSystem/py2/movie.ipynb Cell 29\u001b[0m line \u001b[0;36m6\n\u001b[1;32m      <a href='vscode-notebook-cell:/home/dans/Desktop/repos/project/recSystem/py2/movie.ipynb#X35sZmlsZQ%3D%3D?line=3'>4</a>\u001b[0m idx \u001b[39m=\u001b[39m movies_data[movies_data[\u001b[39m'\u001b[39m\u001b[39mtitle\u001b[39m\u001b[39m'\u001b[39m] \u001b[39m==\u001b[39m movie_title]\u001b[39m.\u001b[39mindex[\u001b[39m0\u001b[39m]\n\u001b[1;32m      <a href='vscode-notebook-cell:/home/dans/Desktop/repos/project/recSystem/py2/movie.ipynb#X35sZmlsZQ%3D%3D?line=4'>5</a>\u001b[0m distances, indices \u001b[39m=\u001b[39m nn\u001b[39m.\u001b[39mkneighbors(vectorizedBases[idx], n_neighbors\u001b[39m=\u001b[39mn\u001b[39m+\u001b[39m\u001b[39m1\u001b[39m)\n\u001b[0;32m----> <a href='vscode-notebook-cell:/home/dans/Desktop/repos/project/recSystem/py2/movie.ipynb#X35sZmlsZQ%3D%3D?line=5'>6</a>\u001b[0m \u001b[39mreturn\u001b[39;00m movies_data\u001b[39m.\u001b[39;49miloc[indices[\u001b[39m0\u001b[39;49m][\u001b[39m1\u001b[39;49m:]][[\u001b[39m'\u001b[39m\u001b[39mtitle\u001b[39m\u001b[39m'\u001b[39m,\u001b[39m'\u001b[39m\u001b[39mvote_average\u001b[39m\u001b[39m'\u001b[39m]]\n",
      "File \u001b[0;32m~/.local/lib/python3.10/site-packages/pandas/core/indexing.py:1191\u001b[0m, in \u001b[0;36m_LocationIndexer.__getitem__\u001b[0;34m(self, key)\u001b[0m\n\u001b[1;32m   1189\u001b[0m maybe_callable \u001b[39m=\u001b[39m com\u001b[39m.\u001b[39mapply_if_callable(key, \u001b[39mself\u001b[39m\u001b[39m.\u001b[39mobj)\n\u001b[1;32m   1190\u001b[0m maybe_callable \u001b[39m=\u001b[39m \u001b[39mself\u001b[39m\u001b[39m.\u001b[39m_check_deprecated_callable_usage(key, maybe_callable)\n\u001b[0;32m-> 1191\u001b[0m \u001b[39mreturn\u001b[39;00m \u001b[39mself\u001b[39;49m\u001b[39m.\u001b[39;49m_getitem_axis(maybe_callable, axis\u001b[39m=\u001b[39;49maxis)\n",
      "File \u001b[0;32m~/.local/lib/python3.10/site-packages/pandas/core/indexing.py:1743\u001b[0m, in \u001b[0;36m_iLocIndexer._getitem_axis\u001b[0;34m(self, key, axis)\u001b[0m\n\u001b[1;32m   1741\u001b[0m \u001b[39m# a list of integers\u001b[39;00m\n\u001b[1;32m   1742\u001b[0m \u001b[39melif\u001b[39;00m is_list_like_indexer(key):\n\u001b[0;32m-> 1743\u001b[0m     \u001b[39mreturn\u001b[39;00m \u001b[39mself\u001b[39;49m\u001b[39m.\u001b[39;49m_get_list_axis(key, axis\u001b[39m=\u001b[39;49maxis)\n\u001b[1;32m   1745\u001b[0m \u001b[39m# a single integer\u001b[39;00m\n\u001b[1;32m   1746\u001b[0m \u001b[39melse\u001b[39;00m:\n\u001b[1;32m   1747\u001b[0m     key \u001b[39m=\u001b[39m item_from_zerodim(key)\n",
      "File \u001b[0;32m~/.local/lib/python3.10/site-packages/pandas/core/indexing.py:1717\u001b[0m, in \u001b[0;36m_iLocIndexer._get_list_axis\u001b[0;34m(self, key, axis)\u001b[0m\n\u001b[1;32m   1714\u001b[0m     \u001b[39mreturn\u001b[39;00m \u001b[39mself\u001b[39m\u001b[39m.\u001b[39mobj\u001b[39m.\u001b[39m_take_with_is_copy(key, axis\u001b[39m=\u001b[39maxis)\n\u001b[1;32m   1715\u001b[0m \u001b[39mexcept\u001b[39;00m \u001b[39mIndexError\u001b[39;00m \u001b[39mas\u001b[39;00m err:\n\u001b[1;32m   1716\u001b[0m     \u001b[39m# re-raise with different error message, e.g. test_getitem_ndarray_3d\u001b[39;00m\n\u001b[0;32m-> 1717\u001b[0m     \u001b[39mraise\u001b[39;00m \u001b[39mIndexError\u001b[39;00m(\u001b[39m\"\u001b[39m\u001b[39mpositional indexers are out-of-bounds\u001b[39m\u001b[39m\"\u001b[39m) \u001b[39mfrom\u001b[39;00m \u001b[39merr\u001b[39;00m\n",
      "\u001b[0;31mIndexError\u001b[0m: positional indexers are out-of-bounds"
     ]
    }
   ],
   "source": [
    "similar = find_similar_movies('Sphinx')\n",
    "\n",
    "print(similar)"
   ]
  },
  {
   "cell_type": "code",
   "execution_count": null,
   "metadata": {},
   "outputs": [],
   "source": []
  },
  {
   "cell_type": "code",
   "execution_count": null,
   "metadata": {},
   "outputs": [],
   "source": [
    "#from flask import Flask, request, jsonify\n",
    "\n",
    "#app = Flask(__name__)\n",
    "\n",
    "#@app.route('/recommend', methods=['GET'])\n",
    "#def recommend():\n",
    " #   movie_title = request.args.get('title')\n",
    "  #  n = int(request.args.get('n', 29))\n",
    "   # similar_movies = find_similar_movies(movie_title, n)\n",
    "   # return jsonify(similar_movies.to_dict(orient ='records'))\n",
    "\n",
    "#if __name__ == '__main__':\n",
    " #   app.run(debug=True, port=50001)"
   ]
  },
  {
   "cell_type": "code",
   "execution_count": null,
   "metadata": {},
   "outputs": [],
   "source": []
  }
 ],
 "metadata": {
  "kernelspec": {
   "display_name": "Python 3",
   "language": "python",
   "name": "python3"
  },
  "language_info": {
   "codemirror_mode": {
    "name": "ipython",
    "version": 3
   },
   "file_extension": ".py",
   "mimetype": "text/x-python",
   "name": "python",
   "nbconvert_exporter": "python",
   "pygments_lexer": "ipython3",
   "version": "3.10.12"
  },
  "orig_nbformat": 4
 },
 "nbformat": 4,
 "nbformat_minor": 2
}
